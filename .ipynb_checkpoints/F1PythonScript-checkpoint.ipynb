{
 "cells": [
  {
   "cell_type": "code",
   "execution_count": 1,
   "metadata": {},
   "outputs": [],
   "source": [
    "import os\n",
    "import pandas as pd\n",
    "import numpy as np\n",
    "import re\n",
    "import glob\n",
    "\n",
    "import pandasql"
   ]
  },
  {
   "cell_type": "code",
   "execution_count": 2,
   "metadata": {},
   "outputs": [
    {
     "data": {
      "text/plain": [
       "'/Users/drewwilliams/Desktop/F1Data'"
      ]
     },
     "execution_count": 2,
     "metadata": {},
     "output_type": "execute_result"
    }
   ],
   "source": [
    "f1dir = os.getcwd()\n",
    "f1dir"
   ]
  },
  {
   "cell_type": "code",
   "execution_count": 3,
   "metadata": {},
   "outputs": [
    {
     "data": {
      "text/plain": [
       "'/Users/drewwilliams/Desktop/F1Data/f1db_csv'"
      ]
     },
     "execution_count": 3,
     "metadata": {},
     "output_type": "execute_result"
    }
   ],
   "source": [
    "datadir = os.path.join(f1dir, 'f1db_csv')\n",
    "datadir"
   ]
  },
  {
   "cell_type": "code",
   "execution_count": 4,
   "metadata": {},
   "outputs": [
    {
     "data": {
      "text/plain": [
       "['.Rhistory',\n",
       " 'circuits.csv',\n",
       " 'status.csv',\n",
       " 'lap_times.csv',\n",
       " 'races.csv',\n",
       " 'constructors.csv',\n",
       " 'constructor_standings.csv',\n",
       " 'driver.csv',\n",
       " 'qualifying.csv',\n",
       " 'F1Rscript.R',\n",
       " 'driver_standings.csv',\n",
       " 'constructor_results.csv',\n",
       " 'pit_stops.csv',\n",
       " 'seasons.csv',\n",
       " 'results.csv']"
      ]
     },
     "execution_count": 4,
     "metadata": {},
     "output_type": "execute_result"
    }
   ],
   "source": [
    "data_files = os.listdir(datadir)\n",
    "\n",
    "data_files"
   ]
  },
  {
   "cell_type": "code",
   "execution_count": 5,
   "metadata": {},
   "outputs": [
    {
     "data": {
      "text/plain": [
       "['/Users/drewwilliams/Desktop/F1Data/f1db_csv/circuits.csv',\n",
       " '/Users/drewwilliams/Desktop/F1Data/f1db_csv/constructor_results.csv',\n",
       " '/Users/drewwilliams/Desktop/F1Data/f1db_csv/constructor_standings.csv',\n",
       " '/Users/drewwilliams/Desktop/F1Data/f1db_csv/constructors.csv',\n",
       " '/Users/drewwilliams/Desktop/F1Data/f1db_csv/driver.csv',\n",
       " '/Users/drewwilliams/Desktop/F1Data/f1db_csv/driver_standings.csv',\n",
       " '/Users/drewwilliams/Desktop/F1Data/f1db_csv/lap_times.csv',\n",
       " '/Users/drewwilliams/Desktop/F1Data/f1db_csv/pit_stops.csv',\n",
       " '/Users/drewwilliams/Desktop/F1Data/f1db_csv/qualifying.csv',\n",
       " '/Users/drewwilliams/Desktop/F1Data/f1db_csv/races.csv',\n",
       " '/Users/drewwilliams/Desktop/F1Data/f1db_csv/results.csv',\n",
       " '/Users/drewwilliams/Desktop/F1Data/f1db_csv/seasons.csv',\n",
       " '/Users/drewwilliams/Desktop/F1Data/f1db_csv/status.csv']"
      ]
     },
     "execution_count": 5,
     "metadata": {},
     "output_type": "execute_result"
    }
   ],
   "source": [
    "filenames = glob.glob(datadir + \"/*.csv\")\n",
    "filenames = sorted(filenames)\n",
    "filenames"
   ]
  },
  {
   "cell_type": "code",
   "execution_count": 6,
   "metadata": {},
   "outputs": [],
   "source": [
    "dfs = []\n",
    "for filename in filenames:\n",
    "    dfs.append(pd.read_csv(filename, header = None))\n",
    "    "
   ]
  },
  {
   "cell_type": "code",
   "execution_count": 7,
   "metadata": {},
   "outputs": [
    {
     "name": "stdout",
     "output_type": "stream",
     "text": [
      "['circuitId', 'circuitRef', 'name', 'location', 'country', 'lat', 'lng', 'alt', 'url']\n",
      "['cunstructorResultsId', 'raceId', 'constructorId', 'points', 'status']\n",
      "['cunstructorStandingsId', 'raceId', 'constructorId', 'points', 'position', 'positionText', 'wins']\n",
      "['constructorId', 'custructorRef', 'name', 'nationality', 'url']\n",
      "['driverId', 'driverRef', 'number', 'code', 'forename', 'surname', 'dob', 'nationality', 'url']\n",
      "['driverStandingsId', 'raceId', 'driverId', 'points', 'position', 'positionText', 'wins']\n",
      "['raceId', 'driverId', 'lap', 'position', 'time', 'milliseconds']\n",
      "['raceId', 'driverId', 'stop', 'lap', 'time', 'duration', 'milliseconds']\n",
      "['qualifyId', 'raceId', 'driverId', 'constructorId', 'number', 'position', 'q1', 'q2', 'q3']\n",
      "['raceId', 'year', 'round', 'circuitId', 'name', 'date', 'time', 'url']\n",
      "['resultId', 'raceId', 'driverID', 'constructorId', 'number', 'grid', 'position', 'positionText', 'positionOrder', 'points', 'laps', 'time', 'milliseconds', 'fastestLap', 'rank', 'fastestLapTime', 'fastestLapSpeed', 'statusId']\n",
      "['year', 'url']\n",
      "['statusId', 'status']\n"
     ]
    }
   ],
   "source": [
    "dfs[0].columns = ['circuitId','circuitRef','name','location','country','lat','lng','alt','url']\n",
    "dfs[1].columns = ['cunstructorResultsId','raceId','constructorId','points','status']\n",
    "dfs[2].columns = ['cunstructorStandingsId','raceId','constructorId','points','position','positionText','wins']\n",
    "dfs[3].columns = ['constructorId','custructorRef','name','nationality','url']\n",
    "dfs[4].columns = ['driverId','driverRef','number','code','forename','surname','dob','nationality','url']\n",
    "dfs[5].columns = ['driverStandingsId','raceId','driverId','points','position','positionText','wins']\n",
    "dfs[6].columns = ['raceId','driverId','lap','position','time','milliseconds']\n",
    "dfs[7].columns = ['raceId','driverId','stop','lap','time','duration','milliseconds'] \n",
    "dfs[8].columns = ['qualifyId','raceId','driverId','constructorId','number','position','q1','q2','q3']\n",
    "dfs[9].columns = ['raceId','year','round','circuitId','name','date','time','url']\n",
    "dfs[10].columns = ['resultId','raceId','driverID','constructorId','number','grid','position','positionText','positionOrder','points','laps','time','milliseconds','fastestLap','rank','fastestLapTime','fastestLapSpeed','statusId']\n",
    "dfs[11].columns = ['year','url']\n",
    "dfs[12].columns = ['statusId','status']\n",
    "\n",
    "for i in range(0, len(filenames)):\n",
    "    print(list(dfs[i].columns))"
   ]
  },
  {
   "cell_type": "code",
   "execution_count": 11,
   "metadata": {},
   "outputs": [
    {
     "name": "stdout",
     "output_type": "stream",
     "text": [
      "    circuitId     circuitRef                          name    location  \\\n",
      "68         69       americas       Circuit of the Americas      Austin   \n",
      "69         70  red_bull_ring                 Red Bull Ring   Spielburg   \n",
      "70         71          sochi                Sochi Autodrom       Sochi   \n",
      "71         72  port_imperial  Port Imperial Street Circuit  New Jersey   \n",
      "72         73            BAK             Baku City Circuit        Baku   \n",
      "\n",
      "       country      lat      lng alt  \\\n",
      "68         USA  30.1328 -97.6411  \\N   \n",
      "69     Austria  47.2197  14.7647  \\N   \n",
      "70      Russia  43.4057  39.9578  \\N   \n",
      "71         USA  40.7769 -74.0111  \\N   \n",
      "72  Azerbaijan  40.3725  49.8533  \\N   \n",
      "\n",
      "                                                  url  \n",
      "68  http://en.wikipedia.org/wiki/Circuit_of_the_Am...  \n",
      "69         http://en.wikipedia.org/wiki/Red_Bull_Ring  \n",
      "70        http://en.wikipedia.org/wiki/Sochi_Autodrom  \n",
      "71  http://en.wikipedia.org/wiki/Port_Imperial_Str...  \n",
      "72     http://en.wikipedia.org/wiki/Baku_City_Circuit  \n",
      "       cunstructorResultsId  raceId  constructorId  points status\n",
      "11365                 15865    1011            211     1.0     \\N\n",
      "11366                 15866    1011            210     0.0     \\N\n",
      "11367                 15867    1011              3     0.0     \\N\n",
      "11368                 15868    1011              4     0.0     \\N\n",
      "11369                 15869    1011              5     2.0     \\N\n",
      "       cunstructorStandingsId  raceId  constructorId  points  position  \\\n",
      "12121                   27214    1011              9    31.0         3   \n",
      "12122                   27219    1011            211     3.0         9   \n",
      "12123                   27217    1011              4     6.0         7   \n",
      "12124                   27216    1011            210     8.0         6   \n",
      "12125                   27213    1011            131    87.0         1   \n",
      "\n",
      "      positionText  wins  \n",
      "12121            3     0  \n",
      "12122            9     0  \n",
      "12123            7     0  \n",
      "12124            6     0  \n",
      "12125            1     2  \n",
      "     constructorId custructorRef            name nationality  \\\n",
      "204            207      caterham        Caterham   Malaysian   \n",
      "205            208      lotus_f1        Lotus F1     British   \n",
      "206            209         manor  Manor Marussia     British   \n",
      "207            210          haas    Haas F1 Team    American   \n",
      "208            211  racing_point    Racing Point     British   \n",
      "\n",
      "                                                   url  \n",
      "204           http://en.wikipedia.org/wiki/Caterham_F1  \n",
      "205              http://en.wikipedia.org/wiki/Lotus_F1  \n",
      "206      http://en.wikipedia.org/wiki/Manor_Motorsport  \n",
      "207          http://en.wikipedia.org/wiki/Haas_F1_Team  \n",
      "208  https://en.wikipedia.org/wiki/Racing_Point_F1_...  \n",
      "     driverId driverRef number code   forename   surname         dob  \\\n",
      "842       844   leclerc     16  LEC    Charles   Leclerc  1997-10-16   \n",
      "843       845  sirotkin     35  SIR     Sergey  Sirotkin  1995-08-27   \n",
      "844       846    norris      4  NOR      Lando    Norris  1999-11-13   \n",
      "845       847   russell     63  RUS     George   Russell  1998-02-15   \n",
      "846       848     albon     23  ALB  Alexander     Albon  1996-03-23   \n",
      "\n",
      "    nationality                                                url  \n",
      "842  Monegasque  http://en.wikipedia.org/wiki/Charles_Leclerc_(...  \n",
      "843     Russian  http://en.wikipedia.org/wiki/Sergey_Sirotkin_(...  \n",
      "844     British         https://en.wikipedia.org/wiki/Lando_Norris  \n",
      "845     British  https://en.wikipedia.org/wiki/George_Russell_(...  \n",
      "846        Thai      https://en.wikipedia.org/wiki/Alexander_Albon  \n",
      "       driverStandingsId  raceId  driverId  points  position positionText  \\\n",
      "32181              69214    1011       825     8.0         8            8   \n",
      "32182              69213    1011       844    26.0         4            4   \n",
      "32183              69212    1011        20    22.0         5            5   \n",
      "32184              69210    1011         1    43.0         2            2   \n",
      "32185              69209    1011       822    44.0         1            1   \n",
      "\n",
      "       wins  \n",
      "32181     0  \n",
      "32182     0  \n",
      "32183     0  \n",
      "32184     1  \n",
      "32185     1  \n",
      "        raceId  driverId  lap  position      time  milliseconds\n",
      "450993    1011       154   12        19  1:38.627         98627\n",
      "450994    1011       154   13        19  1:38.562         98562\n",
      "450995    1011       154   14        19  1:38.506         98506\n",
      "450996    1011       154   15        19  1:38.770         98770\n",
      "450997    1011       154   16        20  1:42.879        102879\n",
      "      raceId  driverId  stop  lap      time duration  milliseconds\n",
      "6844    1011       826     2   38  19:16:45   30.761         30761\n",
      "6845    1011       825     2   38  19:16:47   25.982         25982\n",
      "6846    1011       842     2   39  19:17:58   24.484         24484\n",
      "6847    1011       841     2   40  19:19:55   24.880         24880\n",
      "6848    1011       832     3   40  19:20:46   24.985         24985\n",
      "      qualifyId  raceId  driverId  constructorId  number  position        q1  \\\n",
      "7971       7995    1011       841             51      99        16  1:30.026   \n",
      "7972       7996    1011       807              4      27        17  1:30.034   \n",
      "7973       7997    1011       840            211      18        18  1:30.217   \n",
      "7974       7998    1011       847              3      63        19  1:31.759   \n",
      "7975       7999    1011         9              3      88        20  1:31.799   \n",
      "\n",
      "      q2  q3  \n",
      "7971  \\N  \\N  \n",
      "7972  \\N  \\N  \n",
      "7973  \\N  \\N  \n",
      "7974  \\N  \\N  \n",
      "7975  \\N  \\N  \n",
      "      raceId  year  round  circuitId                      name        date  \\\n",
      "1013    1026  2019     17         22       Japanese Grand Prix  2019-10-13   \n",
      "1014    1027  2019     18         32        Mexican Grand Prix  2019-10-27   \n",
      "1015    1028  2019     19         69  United States Grand Prix  2019-11-03   \n",
      "1016    1029  2019     20         18      Brazilian Grand Prix  2019-11-17   \n",
      "1017    1030  2019     21         24      Abu Dhabi Grand Prix  2019-12-01   \n",
      "\n",
      "          time                                                url  \n",
      "1013  05:10:00  https://en.wikipedia.org/wiki/2019_Japanese_Gr...  \n",
      "1014  19:10:00  https://en.wikipedia.org/wiki/2019_Mexican_Gra...  \n",
      "1015  19:10:00  https://en.wikipedia.org/wiki/2019_United_Stat...  \n",
      "1016  17:10:00  https://en.wikipedia.org/wiki/2019_Brazilian_G...  \n",
      "1017  13:10:00  https://en.wikipedia.org/wiki/2019_Abu_Dhabi_G...  \n",
      "       resultId  raceId  driverID  constructorId number  grid position  \\\n",
      "24232     24238    1011         9              3     88    20       16   \n",
      "24233     24239    1011       807              4     27    17       \\N   \n",
      "24234     24240    1011       817              4      3    10       \\N   \n",
      "24235     24241    1011       832              1     55     7       \\N   \n",
      "24236     24242    1011       154            210      8    11       \\N   \n",
      "\n",
      "      positionText  positionOrder  points  laps time milliseconds fastestLap  \\\n",
      "24232           16             16     0.0    55   \\N           \\N         13   \n",
      "24233            R             17     0.0    53   \\N           \\N         14   \n",
      "24234            R             18     0.0    53   \\N           \\N         42   \n",
      "24235            R             19     0.0    53   \\N           \\N         42   \n",
      "24236            R             20     0.0    16   \\N           \\N          3   \n",
      "\n",
      "      rank fastestLapTime fastestLapSpeed  statusId  \n",
      "24232   20       1:37.903         199.005        12  \n",
      "24233    6       1:35.215         204.623         5  \n",
      "24234   15       1:36.697         201.487        60  \n",
      "24235   10       1:35.586         203.829       130  \n",
      "24236   18       1:37.262         200.316        31  \n",
      "    year                                                url\n",
      "65  2015  https://en.wikipedia.org/wiki/2015_Formula_One...\n",
      "66  2016  https://en.wikipedia.org/wiki/2016_Formula_One...\n",
      "67  2017  https://en.wikipedia.org/wiki/2017_Formula_One...\n",
      "68  2018  https://en.wikipedia.org/wiki/2018_Formula_One...\n",
      "69  2019  https://en.wikipedia.org/wiki/2019_Formula_One...\n",
      "     statusId      status\n",
      "130       133    +49 Laps\n",
      "131       134    +38 Laps\n",
      "132       135  Brake duct\n",
      "133       136        Seat\n",
      "134       137      Damage\n"
     ]
    }
   ],
   "source": [
    "for i in range(0, len(filenames)):\n",
    "    print(dfs[i].tail())"
   ]
  },
  {
   "cell_type": "code",
   "execution_count": 14,
   "metadata": {},
   "outputs": [],
   "source": [
    "circuits = dfs[0]\n",
    "constructor_results = dfs[1]\n",
    "constructor_standings = dfs[2]\n",
    "constructors = dfs[3]\n",
    "driver = dfs[4]\n",
    "driver_standings = dfs[5]\n",
    "lap_times = dfs[6]\n",
    "pit_stops = dfs[7]\n",
    "qualifying = dfs[8]\n",
    "races = dfs[9]\n",
    "results = dfs[10]\n",
    "seasons = dfs[11]\n",
    "status = dfs[12]"
   ]
  },
  {
   "cell_type": "markdown",
   "metadata": {},
   "source": [
    "# Im just gunna throw the tables in SQL and querry what I need, send out a csv and then do analysis"
   ]
  },
  {
   "cell_type": "code",
   "execution_count": null,
   "metadata": {},
   "outputs": [],
   "source": []
  }
 ],
 "metadata": {
  "kernelspec": {
   "display_name": "Python 3",
   "language": "python",
   "name": "python3"
  },
  "language_info": {
   "codemirror_mode": {
    "name": "ipython",
    "version": 3
   },
   "file_extension": ".py",
   "mimetype": "text/x-python",
   "name": "python",
   "nbconvert_exporter": "python",
   "pygments_lexer": "ipython3",
   "version": "3.7.1"
  }
 },
 "nbformat": 4,
 "nbformat_minor": 2
}
