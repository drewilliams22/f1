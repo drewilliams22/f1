{
 "cells": [
  {
   "cell_type": "markdown",
   "metadata": {},
   "source": [
    "# First check if files are in the directory, if they are, delete them, then redownload"
   ]
  },
  {
   "cell_type": "code",
   "execution_count": 44,
   "metadata": {},
   "outputs": [],
   "source": [
    "import os\n",
    "import wget\n",
    "import gzip\n",
    "import shutil\n",
    "\n",
    "\n",
    "files = os.listdir('./')\n",
    "\n",
    "for file in files:\n",
    "    if file == 'f1db.sql':\n",
    "        os.remove(file)\n",
    "    if file == 'f1db.sql.gz':\n",
    "        os.remove(file)\n",
    "        \n",
    "url = 'http://ergast.com/downloads/f1db.sql.gz'\n",
    "\n",
    "wget.download(url)\n",
    "\n",
    "def gunzip_shutil(source_filepath, dest_filepath, block_size=65536):\n",
    "    with gzip.open(source_filepath, 'rb') as s_file, \\\n",
    "            open(dest_filepath, 'wb') as d_file:\n",
    "        shutil.copyfileobj(s_file, d_file, block_size)\n",
    "\n",
    "gunzip_shutil('f1db.sql.gz', 'f1db.sql')\n",
    "\n",
    "\n"
   ]
  },
  {
   "cell_type": "code",
   "execution_count": null,
   "metadata": {},
   "outputs": [],
   "source": []
  }
 ],
 "metadata": {
  "kernelspec": {
   "display_name": "Python 3",
   "language": "python",
   "name": "python3"
  },
  "language_info": {
   "codemirror_mode": {
    "name": "ipython",
    "version": 3
   },
   "file_extension": ".py",
   "mimetype": "text/x-python",
   "name": "python",
   "nbconvert_exporter": "python",
   "pygments_lexer": "ipython3",
   "version": "3.7.1"
  }
 },
 "nbformat": 4,
 "nbformat_minor": 2
}
